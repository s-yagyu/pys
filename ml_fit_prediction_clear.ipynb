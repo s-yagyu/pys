{
 "cells": [
  {
   "cell_type": "markdown",
   "metadata": {},
   "source": [
    "### 機械学習によるPYS閾値予測のコード例\n",
    "\n",
    "用意するもの\n",
    "\n",
    "x:enegy　\n",
    "y: PYS intensity or SPYS intensity\n",
    "\n",
    "Excel(.xlsx) or CSV(.csv)\n",
    "\n",
    "Data example(csv)\n",
    "```\n",
    "energy,pys\n",
    "4.0,3.24\n",
    "4.05,7.8\n",
    "4.1,3.61\n",
    "4.15,6.25\n",
    "4.2,4.8\n",
    " .......\n",
    "``` "
   ]
  },
  {
   "cell_type": "code",
   "execution_count": null,
   "metadata": {},
   "outputs": [],
   "source": [
    "# #うまく自作モジュールが読み込めないとき\n",
    "# import sys\n",
    "# sys.path.append('./pysfunclib')\n",
    "# sys.path.append('./autoreglib')"
   ]
  },
  {
   "cell_type": "code",
   "execution_count": null,
   "metadata": {},
   "outputs": [],
   "source": [
    "# #　自作モジュールを変更したとき\n",
    "# %load_ext autoreload\n",
    "# %autoreload\n",
    "# %autoreload 2"
   ]
  },
  {
   "cell_type": "code",
   "execution_count": null,
   "metadata": {},
   "outputs": [],
   "source": [
    "#自作モジュールの読み込み\n",
    "from pysfunclib import fowler_func as ff\n",
    "from pysfunclib import fowler_func_opti as ffo\n",
    "from pysfunclib import fit_prediction_lib as fpl\n",
    "from pysfunclib import ml_prediction_lib as mpl\n",
    "from pysfunclib import data_read as dr\n",
    "\n",
    "#機械学習の自動化とプロットのモジュール\n",
    "from autoreglib import gridreg as gs"
   ]
  },
  {
   "cell_type": "code",
   "execution_count": null,
   "metadata": {
    "tags": []
   },
   "outputs": [],
   "source": [
    "# csv or excel dataの読み込み\n",
    "#estimated value by analyst: 4.81eV\n",
    "xx,yy= dr.read_pys_data(\"./data/df_au481_pys.csv\",pys_or_spys='pys')"
   ]
  },
  {
   "cell_type": "markdown",
   "metadata": {},
   "source": [
    "### MLによる予測"
   ]
  },
  {
   "cell_type": "code",
   "execution_count": null,
   "metadata": {},
   "outputs": [],
   "source": [
    "# 識別パラメータの入っているパスを指定してインスタンスを作成\n",
    "prd=mpl.MLPredict(path_name='./spys_reg_20200623/')"
   ]
  },
  {
   "cell_type": "code",
   "execution_count": null,
   "metadata": {},
   "outputs": [],
   "source": [
    "# 識別パラメーターの読み込み\n",
    "prd.param_load()"
   ]
  },
  {
   "cell_type": "code",
   "execution_count": null,
   "metadata": {
    "tags": []
   },
   "outputs": [],
   "source": [
    "# データを与えて予測を行う\n",
    "prd.prediction(xx,yy)"
   ]
  },
  {
   "cell_type": "code",
   "execution_count": null,
   "metadata": {},
   "outputs": [],
   "source": [
    "# データと予測結果の図示\n",
    "prd.plot()"
   ]
  },
  {
   "cell_type": "markdown",
   "metadata": {},
   "source": [
    "### Fittingによる予測"
   ]
  },
  {
   "cell_type": "code",
   "execution_count": null,
   "metadata": {},
   "outputs": [],
   "source": [
    "fprd =  fpl.SPYSFit()"
   ]
  },
  {
   "cell_type": "code",
   "execution_count": null,
   "metadata": {},
   "outputs": [],
   "source": [
    "fprd.fit(xx, yy, para= [4.8,300,1,1])"
   ]
  },
  {
   "cell_type": "code",
   "execution_count": null,
   "metadata": {
    "tags": []
   },
   "outputs": [],
   "source": [
    "fprd.plot()"
   ]
  },
  {
   "cell_type": "code",
   "execution_count": null,
   "metadata": {},
   "outputs": [],
   "source": [
    "# fprd.res_plot()"
   ]
  }
 ],
 "metadata": {
  "kernelspec": {
   "display_name": "Python 3",
   "language": "python",
   "name": "python3"
  },
  "language_info": {
   "codemirror_mode": {
    "name": "ipython",
    "version": 3
   },
   "file_extension": ".py",
   "mimetype": "text/x-python",
   "name": "python",
   "nbconvert_exporter": "python",
   "pygments_lexer": "ipython3",
   "version": "3.7.1"
  }
 },
 "nbformat": 4,
 "nbformat_minor": 2
}
