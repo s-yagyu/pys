{
 "cells": [
  {
   "cell_type": "markdown",
   "metadata": {},
   "source": [
    "機械学習(GB,RF)のパラメータファイルを作るコード\n"
   ]
  },
  {
   "cell_type": "code",
   "execution_count": null,
   "metadata": {},
   "outputs": [],
   "source": [
    "from datetime import datetime\n",
    "import os\n",
    "import time\n",
    "\n",
    "\n",
    "import numpy as np\n",
    "import csv\n",
    "\n",
    "\n",
    "import pandas as pd\n",
    "from pandas import Series, DataFrame\n",
    "\n",
    "#importとグラフの可視化の設定\n",
    "import matplotlib.pyplot as plt\n",
    "%matplotlib inline\n",
    "\n",
    "#　スタイルは自分の好みで設定\n",
    "plt.style.use(\"ggplot\")\n",
    "\n",
    "#高解像度の設定（きれいな図が出力されますがファイルサイズが大きくなります）\n",
    "# %config InlineBackend.figure_formats = {'png', 'retina'}\n",
    "\n",
    "\n"
   ]
  },
  {
   "cell_type": "code",
   "execution_count": null,
   "metadata": {},
   "outputs": [],
   "source": [
    "#機械学習パッケージモジュールのインポート\n",
    "from sklearn.model_selection import train_test_split\n",
    "\n",
    "# 識別機の保存はJoblibを用いる\n",
    "import joblib"
   ]
  },
  {
   "cell_type": "code",
   "execution_count": null,
   "metadata": {},
   "outputs": [],
   "source": [
    "#自作のモジュール\n",
    "#PYS計算用式が入ったモジュール\n",
    "from pysfunclib import fowler_func as ff\n",
    "\n",
    "#機械学習の自動化とプロットのモジュール\n",
    "from autoreglib import gridreg as gs"
   ]
  },
  {
   "cell_type": "code",
   "execution_count": null,
   "metadata": {},
   "outputs": [],
   "source": []
  },
  {
   "cell_type": "code",
   "execution_count": null,
   "metadata": {},
   "outputs": [],
   "source": [
    "\"\"\"\n",
    "モデルのステップとエネルギー範囲を指定\n",
    "example: 4.2-6.2eV,0.05eV\n",
    "        --> xl4262_005\n",
    "        とする。\n",
    "\"\"\"\n",
    "\n",
    "xl_name_list=['xl5070_010','xl5070_005',\n",
    "              'xl4070_010','xl4070_005',\n",
    "              'xl4270_010',\n",
    "              'xl4262_010','xl4262_005',\n",
    "              'xl4060_010',\n",
    "              'xl4265_005','xl4265_010',\n",
    "              'xl4067_010','xl4067_005',\n",
    "              'xl5067_010','xl5067_005',\n",
    "              'xl3462_010','xl3462_005',\n",
    "             ]"
   ]
  },
  {
   "cell_type": "code",
   "execution_count": null,
   "metadata": {},
   "outputs": [],
   "source": []
  },
  {
   "cell_type": "code",
   "execution_count": null,
   "metadata": {},
   "outputs": [],
   "source": [
    "#作成した識別機を保存するフォルダー\n",
    "tdatetime = datetime.now()\n",
    "tstr = 'spys_reg_{}'.format(tdatetime.strftime('%Y%m%d'))\n",
    "print('Dir name: ', tstr)\n",
    "\n",
    "# 名前が「日時」のフォルダを作成。既に存在している場合は上書きされる。\n",
    "os.makedirs(tstr, exist_ok=True)\n",
    "\n",
    "#カレントディレクトリーに作成します。その中にファイルが入るようにします。\n",
    "dir_tstr=\".//{}//\".format(tstr)\n"
   ]
  },
  {
   "cell_type": "code",
   "execution_count": null,
   "metadata": {
    "scrolled": true
   },
   "outputs": [],
   "source": [
    "for ii in xl_name_list:\n",
    "    \n",
    "    print(\"Start time: \",datetime.now().strftime('%Y%m%d %H:%M:%S') )\n",
    "    start_time = time.time()\n",
    "    \n",
    "    #-----------make datasets---------------\n",
    "\n",
    "    start=float(ii[2:4])*0.1\n",
    "    end=float(ii[4:6])*0.1\n",
    "    step=float(ii[7:10])*0.01\n",
    "    print('energy range, step:', ii)\n",
    "    print('X data list: start, end, step',start, end, step)\n",
    "    print()\n",
    "    \n",
    "    # Xdata making\n",
    "    x_data=ff.x_lists(start,end,step)\n",
    "    \n",
    "    #Nor setting\n",
    "    nor_list=ff.x_lists(0.1,3,0.1)\n",
    "    \n",
    "    #IP setting （Xdataに依存して作成する。3番目の値から最後から-5までの値まで、0.1刻み)\n",
    "    ip_list=ff.x_lists(x_data[3],x_data[-5],0.1)\n",
    "\n",
    "    #Temp setting \n",
    "    temp_list=[100,300,500,700,900]\n",
    "    \n",
    "    #BGsetting \n",
    "    bg_list=[0,5,25,50,100]\n",
    "    \n",
    "    total_spectra=len(nor_list)*len(ip_list)*len(temp_list)*len(bg_list)\n",
    "    \n",
    "    print('x data(energy):{}'.format(x_data))\n",
    "    print()\n",
    "    print('nor:{0}, ip:{1}, tp:{2}, bg:{3}, total spectra:{4}'\n",
    "          .format(len(nor_list),len(ip_list),len(temp_list),len(bg_list),total_spectra))\n",
    "    print('nor list:{0}\\nip list:{1}\\ntp list:{2}\\nbg list:{3}'.format(nor_list,ip_list,temp_list,bg_list))\n",
    "    print()\n",
    "    \n",
    "    # SPYS spectra and ip（検出器が飽和するため最大カウントで制限している。）\n",
    "    XL, yL, yL_all=ff.SPYS_data_ris_max_all(xdata=x_data, nor_list=nor_list, ip_list=ip_list,\n",
    "                                            temp_list=temp_list, bg_list=bg_list, max_count=150, diff_count=7)\n",
    "    \n",
    "    print('total:',total_spectra)\n",
    "    print('Normal(XL):',len(XL),len(yL))\n",
    "\n",
    "\n",
    "    X=np.array(XL)\n",
    "    y=np.array(yL)\n",
    "    print(X.shape,y.shape)\n",
    "    print()\n",
    "\n",
    "    #-----------ML----------\n",
    "\n",
    "\n",
    "    X_train, X_test, y_train, y_test = train_test_split(X, y, stratify=y, train_size=0.8, random_state=0)\n",
    "    \n",
    "    \n",
    "    start_time_gb = time.time()\n",
    "\n",
    "    #-----------GB----------\n",
    "#     gbparam= {'max_depth': [1, 2, 3, 4, 5], 'n_estimators': [5, 10, 50, 100, 200], 'learning_rate': [0.01, 0.1, 1]}\n",
    "    gbparam={'max_depth': [5], 'n_estimators': [200], 'learning_rate': [0.1]}\n",
    "    gbreg=gs.grid_gradientboosting(X_train, y_train, X_test, y_test,X_name_list=x_data,params=gbparam)\n",
    "    \n",
    "    elapsed_time_gb = time.time() - start_time_gb\n",
    "    print (\"GB_elapsed_time:{0} [sec]\".format(elapsed_time_gb))\n",
    "    print(\"-----\")\n",
    "    print()\n",
    "    \n",
    "    #-----------RF----------\n",
    "    start_time_rf = time.time()\n",
    "#     rfparam　= {'n_estimators': [5, 10, 50, 100, 200]}\n",
    "    rfparam = {'n_estimators': [200]}\n",
    "    rfreg=gs.grid_randomforest(X_train, y_train, X_test, y_test, x_data, params=rfparam)\n",
    "    \n",
    "    elapsed_time_rf = time.time() - start_time_rf\n",
    "    print (\"RF_elapsed_time:{0} [sec]\".format(elapsed_time_rf))\n",
    "    print(\"-----\")\n",
    "    print()\n",
    "    \n",
    "    #　Save Filename\n",
    "    file_name_gb='sgb_{}.pkl'.format(ii)\n",
    "    file_name_rf='srf_{}.pkl'.format(ii)\n",
    "    print(\"Save File Name: \",file_name_gb, file_name_rf)\n",
    "\n",
    "    \n",
    "    dir_tstr_gb=\".//{}//{}\".format(tstr, file_name_gb)    \n",
    "    dir_tstr_rf=\".//{}//{}\".format(tstr, file_name_rf)    \n",
    "    joblib.dump(gbreg,dir_tstr_gb)\n",
    "    joblib.dump(rfreg,dir_tstr_rf)\n",
    "    \n",
    "    elapsed_time = time.time() - start_time\n",
    "    \n",
    "    print (\"elapsed_time:{0} [sec]\".format(elapsed_time))\n",
    "    print(\"finished time: \", datetime.now().strftime('%Y%m%d %H:%M:%S') )\n",
    "    print(\"---------------------------------------------------------------------\")\n",
    "    print()"
   ]
  },
  {
   "cell_type": "code",
   "execution_count": null,
   "metadata": {},
   "outputs": [],
   "source": []
  },
  {
   "cell_type": "code",
   "execution_count": null,
   "metadata": {},
   "outputs": [],
   "source": [
    "#Paramater file Load Test\n",
    "sgb_xl3462_010 =joblib.load('spys_reg_20200623/sgb_xl3462_010.pkl')\n"
   ]
  },
  {
   "cell_type": "code",
   "execution_count": null,
   "metadata": {},
   "outputs": [],
   "source": [
    "sgb_xl3462_010"
   ]
  },
  {
   "cell_type": "code",
   "execution_count": null,
   "metadata": {},
   "outputs": [],
   "source": []
  }
 ],
 "metadata": {
  "kernelspec": {
   "display_name": "Environment (conda_anaconda3)",
   "language": "python",
   "name": "conda_anaconda3"
  },
  "language_info": {
   "codemirror_mode": {
    "name": "ipython",
    "version": 3
   },
   "file_extension": ".py",
   "mimetype": "text/x-python",
   "name": "python",
   "nbconvert_exporter": "python",
   "pygments_lexer": "ipython3",
   "version": "3.7.1"
  }
 },
 "nbformat": 4,
 "nbformat_minor": 4
}
